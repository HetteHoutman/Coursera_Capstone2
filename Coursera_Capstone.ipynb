{
 "cells": [
  {
   "cell_type": "markdown",
   "metadata": {},
   "source": [
    "## This notebook will mainly be used for the Coursera Data Science Capstone Project."
   ]
  },
  {
   "cell_type": "code",
   "execution_count": 1,
   "metadata": {},
   "outputs": [],
   "source": [
    "import numpy as np\n",
    "import pandas as pd"
   ]
  },
  {
   "cell_type": "code",
   "execution_count": 2,
   "metadata": {},
   "outputs": [
    {
     "name": "stdout",
     "output_type": "stream",
     "text": [
      "Hello Capstone Project Course!\n"
     ]
    }
   ],
   "source": [
    "print('Hello Capstone Project Course!')"
   ]
  },
  {
   "cell_type": "markdown",
   "metadata": {},
   "source": [
    "# Introduction"
   ]
  },
  {
   "cell_type": "markdown",
   "metadata": {},
   "source": [
    "Traffic accidents happen all the time. In the best case, they lead to minor property damage - in the worst case, to injuries or even death for those involved. And in either case, there is a traffic delay which causes a loss of time for many people.\n",
    "\n",
    "The goal of this project is to predict the severity of a traffic accident once it has been reported to the emergency services. This could be of interest to the emergency services departments, who have to quickly decide what kind of response is necessary once they have received a report of a collision. This would let them increase the efficiency of their response and would free up resources that could then be used in other emergencies."
   ]
  },
  {
   "cell_type": "markdown",
   "metadata": {},
   "source": [
    "# Data"
   ]
  },
  {
   "cell_type": "markdown",
   "metadata": {},
   "source": [
    "The data used in this project is provided by the Seattle Police Department and contains collisions from 2004 till the present. It will be used to train a model that solves a binary classification problem, namely whether a reported accident likely only involves property damage or involves injuries, too. Not all attributes in the data set will be used to build the model; only those that can be known immediately after a collision has been reported. These are: \n",
    "- 'addrtype' - indicates whether the accident has taken place at an intersection, block or alley;\n",
    "- 'x' & 'y' - x and y coordinates of the location of the accident;\n",
    "- 'incdttm' - date and time of accident;\n",
    "- 'junctiontype' - indicates the type of junction, if applicable;\n",
    "- 'weather' - weather condition at the time;\n",
    "- 'roadcond' - road condition at the time;\n",
    "- 'lightcond' - light condition at the time.\n",
    "\n",
    "All these attributes can be obtained extremely quickly in the case of a collision and can therefore be used by an emergency team to be able to rapidly estimate the severity of the collision. Attributes indicating which particular intersection or crosswalk was involved in the collision were dropped as there were too many missing data. "
   ]
  },
  {
   "cell_type": "markdown",
   "metadata": {},
   "source": []
  }
 ],
 "metadata": {
  "kernelspec": {
   "display_name": "Python 3",
   "language": "python",
   "name": "python3"
  },
  "language_info": {
   "codemirror_mode": {
    "name": "ipython",
    "version": 3
   },
   "file_extension": ".py",
   "mimetype": "text/x-python",
   "name": "python",
   "nbconvert_exporter": "python",
   "pygments_lexer": "ipython3",
   "version": "3.7.1"
  }
 },
 "nbformat": 4,
 "nbformat_minor": 2
}
